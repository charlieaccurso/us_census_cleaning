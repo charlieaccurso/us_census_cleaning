{
 "cells": [
  {
   "cell_type": "markdown",
   "id": "9f4680a7",
   "metadata": {},
   "source": [
    "# Cleaning US Census Data"
   ]
  },
  {
   "cell_type": "markdown",
   "id": "5c8128b1",
   "metadata": {},
   "source": [
    "In this project, I demonstrate techniques used to clean messy data, using US Census data as an example."
   ]
  },
  {
   "cell_type": "code",
   "execution_count": 1,
   "id": "c74a1def",
   "metadata": {},
   "outputs": [],
   "source": [
    "import pandas as pd\n",
    "import numpy as np\n",
    "import matplotlib.pyplot as plt\n",
    "import seaborn as sns\n",
    "import glob"
   ]
  },
  {
   "cell_type": "markdown",
   "id": "d85d7e0c",
   "metadata": {},
   "source": [
    "## Combine Multiple CSV Files into One DataFrame"
   ]
  },
  {
   "cell_type": "markdown",
   "id": "715f7e0f",
   "metadata": {},
   "source": [
    "We use glob to combine multiple csv files into a single DataFrame."
   ]
  },
  {
   "cell_type": "code",
   "execution_count": 2,
   "id": "0df85b2c",
   "metadata": {},
   "outputs": [],
   "source": [
    "# Use glob to open multiple csvs and concat them into one df\n",
    "files= glob.glob(\"states*.csv\")\n",
    "df_list= []\n",
    "for filename in files:\n",
    "  data= pd.read_csv(filename)\n",
    "  df_list.append(data)\n",
    "us_census= pd.concat(df_list)"
   ]
  },
  {
   "cell_type": "markdown",
   "id": "e73ebba1",
   "metadata": {},
   "source": [
    "## Inspect Columns and Datatypes"
   ]
  },
  {
   "cell_type": "markdown",
   "id": "df00dd78",
   "metadata": {},
   "source": [
    "Next, we inspect the columns and datatypes of our new DataFrame."
   ]
  },
  {
   "cell_type": "code",
   "execution_count": 3,
   "id": "645a9e88",
   "metadata": {},
   "outputs": [
    {
     "name": "stdout",
     "output_type": "stream",
     "text": [
      "Index(['Unnamed: 0', 'State', 'TotalPop', 'Hispanic', 'White', 'Black',\n",
      "       'Native', 'Asian', 'Pacific', 'Income', 'GenderPop'],\n",
      "      dtype='object')\n"
     ]
    }
   ],
   "source": [
    "print(us_census.columns)"
   ]
  },
  {
   "cell_type": "code",
   "execution_count": 4,
   "id": "c04e609a",
   "metadata": {},
   "outputs": [
    {
     "name": "stdout",
     "output_type": "stream",
     "text": [
      "Unnamed: 0     int64\n",
      "State         object\n",
      "TotalPop       int64\n",
      "Hispanic      object\n",
      "White         object\n",
      "Black         object\n",
      "Native        object\n",
      "Asian         object\n",
      "Pacific       object\n",
      "Income        object\n",
      "GenderPop     object\n",
      "dtype: object\n"
     ]
    }
   ],
   "source": [
    "print(us_census.dtypes)"
   ]
  },
  {
   "cell_type": "markdown",
   "id": "e0a21736",
   "metadata": {},
   "source": [
    "It looks like some object dtypes will be easier to work with as floats or ints. Let's inspect the head."
   ]
  },
  {
   "cell_type": "code",
   "execution_count": 5,
   "id": "e3a7cedc",
   "metadata": {},
   "outputs": [
    {
     "name": "stdout",
     "output_type": "stream",
     "text": [
      "   Unnamed: 0       State  TotalPop Hispanic   White   Black  Native   Asian  \\\n",
      "0           0     Alabama   4830620    3.75%  61.88%  31.25%   0.45%   1.05%   \n",
      "1           1      Alaska    733375    5.91%  60.91%   2.85%  16.39%   5.45%   \n",
      "2           2     Arizona   6641928   29.57%  57.12%   3.85%   4.36%   2.88%   \n",
      "3           3    Arkansas   2958208    6.22%  71.14%  18.97%   0.52%   1.14%   \n",
      "4           4  California  38421464   37.29%  40.22%   5.68%   0.41%  13.05%   \n",
      "\n",
      "  Pacific       Income            GenderPop  \n",
      "0   0.03%  $43,296.36     2341093M_2489527F  \n",
      "1   1.06%  $70,354.74       384160M_349215F  \n",
      "2   0.17%  $54,207.82     3299088M_3342840F  \n",
      "3   0.15%  $41,935.63     1451913M_1506295F  \n",
      "4   0.35%  $67,264.78   19087135M_19334329F  \n"
     ]
    }
   ],
   "source": [
    "print(us_census.head())"
   ]
  },
  {
   "cell_type": "markdown",
   "id": "9f5f568f",
   "metadata": {},
   "source": [
    "After inspecting the head, we can see that a lot of columns contain numerical data, but the data has been stored in string form. We will have to convert a lot of this to floats."
   ]
  },
  {
   "cell_type": "code",
   "execution_count": 6,
   "id": "14535fba",
   "metadata": {},
   "outputs": [],
   "source": [
    "# drop duplicates\n",
    "us_census= us_census.drop_duplicates(subset=['State'])"
   ]
  },
  {
   "cell_type": "markdown",
   "id": "c4a4bb64",
   "metadata": {},
   "source": [
    "## Convert an Object to a Numeric Datatype"
   ]
  },
  {
   "cell_type": "markdown",
   "id": "4c22d0db",
   "metadata": {},
   "source": [
    "First, let's convert the Income column to a float value using regular expressions. We begin by replacing the '$' character with an empty string."
   ]
  },
  {
   "cell_type": "code",
   "execution_count": 7,
   "id": "becb94f9",
   "metadata": {},
   "outputs": [],
   "source": [
    "us_census.Income= us_census['Income'].replace('[\\$,]', '', regex=True)"
   ]
  },
  {
   "cell_type": "markdown",
   "id": "09797134",
   "metadata": {},
   "source": [
    "Next, we convert the data from dtype object to dtype float."
   ]
  },
  {
   "cell_type": "code",
   "execution_count": 8,
   "id": "be6da018",
   "metadata": {},
   "outputs": [],
   "source": [
    "us_census.Income= pd.to_numeric(us_census.Income)"
   ]
  },
  {
   "cell_type": "markdown",
   "id": "a0acf059",
   "metadata": {},
   "source": [
    "## Split a Column"
   ]
  },
  {
   "cell_type": "markdown",
   "id": "1cbd225e",
   "metadata": {},
   "source": [
    "In order to make the GenderPop column easier to work with, we will separate it into two new columns, Men and Women, with the population values stored as ints."
   ]
  },
  {
   "cell_type": "code",
   "execution_count": 9,
   "id": "b73afe16",
   "metadata": {},
   "outputs": [],
   "source": [
    "# use a dummy DataFrame to store the split columns\n",
    "split_df= us_census['GenderPop'].str.split('_', expand=True)\n",
    "\n",
    "# remove 'M' and 'F' from the split columns\n",
    "split_df[0]= split_df[0].replace('[M,]', '', regex=True)\n",
    "split_df[1]= split_df[1].replace('[F,]', '', regex=True)\n",
    "\n",
    "# convert values to numerics\n",
    "split_df[0]= pd.to_numeric(split_df[0])\n",
    "split_df[1]= pd.to_numeric(split_df[1])"
   ]
  },
  {
   "cell_type": "markdown",
   "id": "98bfde0f",
   "metadata": {},
   "source": [
    "We can see that the values for the female population are floats, but the male population is denoted in ints. This is due to the fact that some rows only report the male population and the total population, and do not explicitly list the value for the female population. We will address this after we append our new columns to the original DataFrame."
   ]
  },
  {
   "cell_type": "code",
   "execution_count": 10,
   "id": "5e7d6b87",
   "metadata": {},
   "outputs": [],
   "source": [
    "us_census['Men']= split_df[0]\n",
    "us_census['Women']= split_df[1]"
   ]
  },
  {
   "cell_type": "markdown",
   "id": "7c53183d",
   "metadata": {},
   "source": [
    "Now that our DataFrame has columns for the male and female populations, let's fix the NaN values in the Women column."
   ]
  },
  {
   "cell_type": "code",
   "execution_count": 11,
   "id": "4b0e9bfc",
   "metadata": {},
   "outputs": [],
   "source": [
    "us_census= us_census.fillna(value={\n",
    "    'Women': us_census['TotalPop'] - us_census['Men']\n",
    "})\n",
    "\n",
    "# convert Women values to ints\n",
    "us_census['Women']= us_census['Women'].astype('int64')"
   ]
  },
  {
   "cell_type": "markdown",
   "id": "519db4fb",
   "metadata": {},
   "source": [
    "## Make a Scatterplot (Average Income by Population of Women)"
   ]
  },
  {
   "cell_type": "code",
   "execution_count": 12,
   "id": "8d2a907f",
   "metadata": {},
   "outputs": [
    {
     "data": {
      "image/png": "[encoded data removed]",
      "text/plain": [
       "<Figure size 432x288 with 1 Axes>"
      ]
     },
     "metadata": {
      "needs_background": "light"
     },
     "output_type": "display_data"
    },
    {
     "data": {
      "text/plain": [
       "<Figure size 432x288 with 0 Axes>"
      ]
     },
     "metadata": {},
     "output_type": "display_data"
    }
   ],
   "source": [
    "plt.scatter(us_census['Women'], us_census['Income'])\n",
    "plt.xlabel('Pop. Women')\n",
    "plt.ylabel('Average Income')\n",
    "plt.title('Average Income by Population of Women')\n",
    "plt.show()\n",
    "plt.clf()"
   ]
  },
  {
   "cell_type": "markdown",
   "id": "d717d0f9",
   "metadata": {},
   "source": [
    "## Make Histograms for Race Data"
   ]
  },
  {
   "cell_type": "markdown",
   "id": "74a7cb9f",
   "metadata": {},
   "source": [
    "In order to make histograms for the race data, we need to clean the data by removing the percentage character and converting the data into a numeric format."
   ]
  },
  {
   "cell_type": "code",
   "execution_count": 13,
   "id": "bb6a8c2a",
   "metadata": {},
   "outputs": [
    {
     "name": "stdout",
     "output_type": "stream",
     "text": [
      "        State Hispanic   White   Black  Native   Asian Pacific\n",
      "0     Alabama    3.75%  61.88%  31.25%   0.45%   1.05%   0.03%\n",
      "1      Alaska    5.91%  60.91%   2.85%  16.39%   5.45%   1.06%\n",
      "2     Arizona   29.57%  57.12%   3.85%   4.36%   2.88%   0.17%\n",
      "3    Arkansas    6.22%  71.14%  18.97%   0.52%   1.14%   0.15%\n",
      "4  California   37.29%  40.22%   5.68%   0.41%  13.05%   0.35%\n"
     ]
    }
   ],
   "source": [
    "print(us_census[['State','Hispanic', 'White', 'Black', 'Native', 'Asian', 'Pacific']].head())"
   ]
  },
  {
   "cell_type": "code",
   "execution_count": 14,
   "id": "9a729432",
   "metadata": {},
   "outputs": [],
   "source": [
    "# fill nan's for Pacific group with 0.00%\n",
    "us_census= us_census.fillna(value={\n",
    "    \"Pacific\": '0.00%'\n",
    "})"
   ]
  },
  {
   "cell_type": "code",
   "execution_count": 30,
   "id": "d28af557",
   "metadata": {},
   "outputs": [
    {
     "data": {
      "image/png": "[encoded data removed]",
      "text/plain": [
       "<Figure size 432x288 with 1 Axes>"
      ]
     },
     "metadata": {
      "needs_background": "light"
     },
     "output_type": "display_data"
    },
    {
     "data": {
      "image/png": "[encoded data removed]",
      "text/plain": [
       "<Figure size 432x288 with 1 Axes>"
      ]
     },
     "metadata": {
      "needs_background": "light"
     },
     "output_type": "display_data"
    },
    {
     "data": {
      "image/png": "[encoded data removed]",
      "text/plain": [
       "<Figure size 432x288 with 1 Axes>"
      ]
     },
     "metadata": {
      "needs_background": "light"
     },
     "output_type": "display_data"
    },
    {
     "data": {
      "image/png": "[encoded data removed]",
      "text/plain": [
       "<Figure size 432x288 with 1 Axes>"
      ]
     },
     "metadata": {
      "needs_background": "light"
     },
     "output_type": "display_data"
    },
    {
     "data": {
      "image/png": "[encoded data removed]",
      "text/plain": [
       "<Figure size 432x288 with 1 Axes>"
      ]
     },
     "metadata": {
      "needs_background": "light"
     },
     "output_type": "display_data"
    },
    {
     "data": {
      "image/png": "[encoded data removed]",
      "text/plain": [
       "<Figure size 432x288 with 1 Axes>"
      ]
     },
     "metadata": {
      "needs_background": "light"
     },
     "output_type": "display_data"
    },
    {
     "data": {
      "text/plain": [
       "<Figure size 432x288 with 0 Axes>"
      ]
     },
     "metadata": {},
     "output_type": "display_data"
    }
   ],
   "source": [
    "# remove % character\n",
    "races= ['Hispanic', 'White', 'Black', 'Native', 'Asian', 'Pacific']\n",
    "\n",
    "for race in races:\n",
    "    us_census[race]= us_census[race].replace('[%,]', '', regex=True)\n",
    "    us_census[race]= pd.to_numeric(us_census[race])\n",
    "    plt.hist(us_census[race], bins=20)\n",
    "    plt.xlabel('Percent (%) {}'.format(race))\n",
    "    plt.ylabel('Count')\n",
    "    plt.show()\n",
    "    plt.clf()"
   ]
  },
  {
   "cell_type": "code",
   "execution_count": null,
   "id": "5eed9910",
   "metadata": {},
   "outputs": [],
   "source": []
  }
 ],
 "metadata": {
  "kernelspec": {
   "display_name": "Python 3 (ipykernel)",
   "language": "python",
   "name": "python3"
  },
  "language_info": {
   "codemirror_mode": {
    "name": "ipython",
    "version": 3
   },
   "file_extension": ".py",
   "mimetype": "text/x-python",
   "name": "python",
   "nbconvert_exporter": "python",
   "pygments_lexer": "ipython3",
   "version": "3.9.12"
  }
 },
 "nbformat": 4,
 "nbformat_minor": 5
}
